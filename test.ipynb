{
 "cells": [
  {
   "cell_type": "code",
   "execution_count": 11,
   "metadata": {},
   "outputs": [
    {
     "name": "stdout",
     "output_type": "stream",
     "text": [
      "\u001b[33mWARNING: Skipping mysql-python as it is not installed.\u001b[0m\u001b[33m\n",
      "\u001b[0mNote: you may need to restart the kernel to use updated packages.\n",
      "Collecting mysql-connector-python\n",
      "  Downloading mysql_connector_python-8.3.0-cp311-cp311-macosx_13_0_x86_64.whl.metadata (1.9 kB)\n",
      "Downloading mysql_connector_python-8.3.0-cp311-cp311-macosx_13_0_x86_64.whl (16.1 MB)\n",
      "\u001b[2K   \u001b[90m━━━━━━━━━━━━━━━━━━━━━━━━━━━━━━━━━━━━━━━━\u001b[0m \u001b[32m16.1/16.1 MB\u001b[0m \u001b[31m5.5 MB/s\u001b[0m eta \u001b[36m0:00:00\u001b[0m00:01\u001b[0m00:01\u001b[0mm\n",
      "\u001b[?25hInstalling collected packages: mysql-connector-python\n",
      "Successfully installed mysql-connector-python-8.3.0\n",
      "Note: you may need to restart the kernel to use updated packages.\n"
     ]
    }
   ],
   "source": [
    "%pip uninstall mysql-python\n",
    "%pip install mysql-connector-python"
   ]
  },
  {
   "cell_type": "code",
   "execution_count": 2,
   "metadata": {},
   "outputs": [
    {
     "name": "stdout",
     "output_type": "stream",
     "text": [
      "Connected to MySQL database\n",
      "MySQL connection closed\n"
     ]
    }
   ],
   "source": [
    "import mysql.connector\n",
    "import os\n",
    "# Establish connection parameters\n",
    "host = os.environ.get(\"DB_HOST\")\n",
    "user = os.environ.get(\"DB_USERNAME\")\n",
    "password = os.environ.get(\"DB_PASSWORD\")\n",
    "database = os.environ.get(\"DB_DATABASE\")\n",
    "\n",
    "# Connect to MySQL\n",
    "try:\n",
    "    connection = mysql.connector.connect(\n",
    "        host=host,\n",
    "        user=user,\n",
    "        password=\"Geology@7\",\n",
    "        database=database\n",
    "    )\n",
    "    if connection.is_connected():\n",
    "        print(\"Connected to MySQL database\")\n",
    "        # Perform your database operations here\n",
    "    else:\n",
    "        print(\"Connection failed\")\n",
    "except Exception as e:\n",
    "    print(\"Error connecting to MySQL:\", e)\n",
    "finally:\n",
    "    # Close connection\n",
    "    if 'connection' in locals():\n",
    "        connection.close()\n",
    "        print(\"MySQL connection closed\")\n"
   ]
  },
  {
   "cell_type": "code",
   "execution_count": 4,
   "metadata": {},
   "outputs": [
    {
     "name": "stdout",
     "output_type": "stream",
     "text": [
      "Error: 1045 (28000): Access denied for user ''@'localhost' (using password: YES)\n"
     ]
    }
   ],
   "source": [
    "import os\n",
    "import uvicorn\n",
    "from typing import List\n",
    "from fastapi import FastAPI, Depends\n",
    "import mysql.connector\n",
    "\n",
    "try:\n",
    "    # Get MySQL connection details from environment variables\n",
    "    host = os.environ.get(\"DB_HOST\")\n",
    "    user = os.environ.get(\"DB_USERNAME\")\n",
    "    password = os.environ.get(\"DB_PASSWORD\")\n",
    "    database = os.environ.get(\"DB_DATABASE\")\n",
    "    # mysql_config = {\n",
    "    #     'user': user,\n",
    "    #     'password': password,\n",
    "    #     'host': ,\n",
    "    #     'database': database,\n",
    "    #     'port': '3306',\n",
    "    #     'ssl_disabled': True\n",
    "    # }\n",
    "    db = mysql.connector.connect(\n",
    "        host=host,\n",
    "        user=user,\n",
    "        port='3306',\n",
    "        password=\"Geology@7\",\n",
    "        database=database,\n",
    "        use_pure=True\n",
    "    )\n",
    "    print(\"Connected to MySQL successfully!\")\n",
    "\n",
    "except mysql.connector.Error as err:\n",
    "    print(\"Error:\", err)"
   ]
  }
 ],
 "metadata": {
  "kernelspec": {
   "display_name": "atom",
   "language": "python",
   "name": "python3"
  },
  "language_info": {
   "codemirror_mode": {
    "name": "ipython",
    "version": 3
   },
   "file_extension": ".py",
   "mimetype": "text/x-python",
   "name": "python",
   "nbconvert_exporter": "python",
   "pygments_lexer": "ipython3",
   "version": "3.11.8"
  }
 },
 "nbformat": 4,
 "nbformat_minor": 2
}
