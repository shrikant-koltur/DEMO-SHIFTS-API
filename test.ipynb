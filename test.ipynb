{
 "cells": [
  {
   "cell_type": "code",
   "execution_count": 11,
   "metadata": {},
   "outputs": [
    {
     "name": "stdout",
     "output_type": "stream",
     "text": [
      "\u001b[33mWARNING: Skipping mysql-python as it is not installed.\u001b[0m\u001b[33m\n",
      "\u001b[0mNote: you may need to restart the kernel to use updated packages.\n",
      "Collecting mysql-connector-python\n",
      "  Downloading mysql_connector_python-8.3.0-cp311-cp311-macosx_13_0_x86_64.whl.metadata (1.9 kB)\n",
      "Downloading mysql_connector_python-8.3.0-cp311-cp311-macosx_13_0_x86_64.whl (16.1 MB)\n",
      "\u001b[2K   \u001b[90m━━━━━━━━━━━━━━━━━━━━━━━━━━━━━━━━━━━━━━━━\u001b[0m \u001b[32m16.1/16.1 MB\u001b[0m \u001b[31m5.5 MB/s\u001b[0m eta \u001b[36m0:00:00\u001b[0m00:01\u001b[0m00:01\u001b[0mm\n",
      "\u001b[?25hInstalling collected packages: mysql-connector-python\n",
      "Successfully installed mysql-connector-python-8.3.0\n",
      "Note: you may need to restart the kernel to use updated packages.\n"
     ]
    }
   ],
   "source": [
    "%pip uninstall mysql-python\n",
    "%pip install mysql-connector-python"
   ]
  },
  {
   "cell_type": "code",
   "execution_count": 8,
   "metadata": {},
   "outputs": [
    {
     "data": {
      "text/plain": [
       "True"
      ]
     },
     "execution_count": 8,
     "metadata": {},
     "output_type": "execute_result"
    }
   ],
   "source": [
    "import os\n",
    "import uvicorn\n",
    "from typing import List\n",
    "from fastapi import FastAPI\n",
    "import mysql.connector\n",
    "from dotenv import load_dotenv\n",
    "from fastapi.middleware.cors import CORSMiddleware\n",
    "from abc import ABC, abstractmethod\n",
    "load_dotenv()"
   ]
  },
  {
   "cell_type": "code",
   "execution_count": 10,
   "metadata": {},
   "outputs": [
    {
     "name": "stdout",
     "output_type": "stream",
     "text": [
      "MySQL Database version: 8.3.0\n"
     ]
    }
   ],
   "source": [
    "import os\n",
    "import mysql.connector\n",
    "from abc import ABC, abstractmethod\n",
    "\n",
    "class Database(ABC):\n",
    "    \"\"\"\n",
    "    Database context manager\n",
    "    \"\"\"\n",
    "\n",
    "    def __init__(self, driver) -> None:\n",
    "        self.driver = driver\n",
    "\n",
    "    @abstractmethod\n",
    "    def connect_to_database(self):\n",
    "        raise NotImplementedError()\n",
    "\n",
    "    def __enter__(self):\n",
    "        self.connection = self.connect_to_database()\n",
    "        self.cursor = self.connection.cursor()\n",
    "        return self\n",
    "\n",
    "    def __exit__(self, exception_type, exc_val, traceback):\n",
    "        self.cursor.close()\n",
    "        self.connection.close()\n",
    "\n",
    "# Access environment variables\n",
    "db_host = os.getenv(\"DB_HOST\")\n",
    "db_user = os.getenv(\"DB_USERNAME\")\n",
    "db_password = os.getenv(\"DB_PASSWORD\")\n",
    "db_database = os.getenv(\"DB_DATABASE\")\n",
    "db_port = os.getenv(\"DB_PORT\")\n",
    "\n",
    "class MysqlDatabase(Database):\n",
    "    \"\"\"MySQL Database context manager\"\"\"\n",
    "\n",
    "    def __init__(self) -> None:\n",
    "        self.driver = mysql.connector\n",
    "        super().__init__(self.driver)\n",
    "\n",
    "    def connect_to_database(self):\n",
    "        config = {\n",
    "            'user': db_user,\n",
    "            'password': db_password,\n",
    "            'host': db_host,\n",
    "            'port': db_port,\n",
    "            'database': db_database,\n",
    "            'raise_on_warnings': True,\n",
    "            'autocommit': False  # Disable autocommit to manage transactions manually\n",
    "        }\n",
    "        return self.driver.connect(**config)\n",
    "\n",
    "if __name__ == \"__main__\":\n",
    "    # Create a MysqlDatabase object within a with block\n",
    "    with MysqlDatabase() as db:\n",
    "        # Execute a simple query\n",
    "        db.cursor.execute(\"SELECT VERSION()\")\n",
    "        # Fetch the result\n",
    "        version = db.cursor.fetchone()[0]\n",
    "        print(f\"MySQL Database version: {version}\")\n"
   ]
  },
  {
   "cell_type": "code",
   "execution_count": null,
   "metadata": {},
   "outputs": [],
   "source": []
  },
  {
   "cell_type": "code",
   "execution_count": null,
   "metadata": {},
   "outputs": [],
   "source": []
  },
  {
   "cell_type": "code",
   "execution_count": null,
   "metadata": {},
   "outputs": [],
   "source": []
  },
  {
   "cell_type": "code",
   "execution_count": 2,
   "metadata": {},
   "outputs": [
    {
     "name": "stdout",
     "output_type": "stream",
     "text": [
      "Connected to MySQL database\n",
      "MySQL connection closed\n"
     ]
    }
   ],
   "source": [
    "import mysql.connector\n",
    "import os\n",
    "# Establish connection parameters\n",
    "host = os.environ.get(\"DB_HOST\")\n",
    "user = os.environ.get(\"DB_USERNAME\")\n",
    "password = os.environ.get(\"DB_PASSWORD\")\n",
    "database = os.environ.get(\"DB_DATABASE\")\n",
    "\n",
    "# Connect to MySQL\n",
    "try:\n",
    "    connection = mysql.connector.connect(\n",
    "        host=host,\n",
    "        user=user,\n",
    "        password=\"Geology@7\",\n",
    "        database=database\n",
    "    )\n",
    "    if connection.is_connected():\n",
    "        print(\"Connected to MySQL database\")\n",
    "        # Perform your database operations here\n",
    "    else:\n",
    "        print(\"Connection failed\")\n",
    "except Exception as e:\n",
    "    print(\"Error connecting to MySQL:\", e)\n",
    "finally:\n",
    "    # Close connection\n",
    "    if 'connection' in locals():\n",
    "        connection.close()\n",
    "        print(\"MySQL connection closed\")\n"
   ]
  },
  {
   "cell_type": "code",
   "execution_count": 4,
   "metadata": {},
   "outputs": [
    {
     "name": "stdout",
     "output_type": "stream",
     "text": [
      "Error: 1045 (28000): Access denied for user ''@'localhost' (using password: YES)\n"
     ]
    }
   ],
   "source": [
    "import os\n",
    "import uvicorn\n",
    "from typing import List\n",
    "from fastapi import FastAPI, Depends\n",
    "import mysql.connector\n",
    "\n",
    "try:\n",
    "    # Get MySQL connection details from environment variables\n",
    "    host = os.environ.get(\"DB_HOST\")\n",
    "    user = os.environ.get(\"DB_USERNAME\")\n",
    "    password = os.environ.get(\"DB_PASSWORD\")\n",
    "    database = os.environ.get(\"DB_DATABASE\")\n",
    "    # mysql_config = {\n",
    "    #     'user': user,\n",
    "    #     'password': password,\n",
    "    #     'host': ,\n",
    "    #     'database': database,\n",
    "    #     'port': '3306',\n",
    "    #     'ssl_disabled': True\n",
    "    # }\n",
    "    db = mysql.connector.connect(\n",
    "        host=host,\n",
    "        user=user,\n",
    "        port='3306',\n",
    "        password=\"Geology@7\",\n",
    "        database=database,\n",
    "        use_pure=True\n",
    "    )\n",
    "    print(\"Connected to MySQL successfully!\")\n",
    "\n",
    "except mysql.connector.Error as err:\n",
    "    print(\"Error:\", err)"
   ]
  }
 ],
 "metadata": {
  "kernelspec": {
   "display_name": "atom",
   "language": "python",
   "name": "python3"
  },
  "language_info": {
   "codemirror_mode": {
    "name": "ipython",
    "version": 3
   },
   "file_extension": ".py",
   "mimetype": "text/x-python",
   "name": "python",
   "nbconvert_exporter": "python",
   "pygments_lexer": "ipython3",
   "version": "3.12.2"
  }
 },
 "nbformat": 4,
 "nbformat_minor": 2
}
